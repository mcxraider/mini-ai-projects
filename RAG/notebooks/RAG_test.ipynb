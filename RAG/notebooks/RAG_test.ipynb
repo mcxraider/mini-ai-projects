{
 "cells": [
  {
   "cell_type": "markdown",
   "metadata": {},
   "source": [
    "## Semi Structured and multimodal RAG\n",
    "\n",
    "- We will use Unstructured to parse both text and tables from documents (PDFs).\n",
    "- We will use the multi-vector retriever to store raw tables, text along with table summaries better suited for retrieval.\n",
    "- We will use LCEL to implement the chains used.\n",
    "\n",
    "Notebook for reference: https://github.com/langchain-ai/langchain/blob/master/cookbook/Semi_structured_and_multi_modal_RAG.ipynb\n"
   ]
  },
  {
   "cell_type": "code",
   "execution_count": 9,
   "metadata": {},
   "outputs": [],
   "source": [
    "from typing import Any\n",
    "import sys\n",
    "from tqdm import trange\n",
    "import time\n",
    "\n",
    "import pandas as pd\n",
    "import numpy as np\n",
    "from groq import Groq\n",
    "import os\n",
    "from pinecone import Pinecone\n",
    "import requests\n",
    "import warnings\n",
    "warnings.filterwarnings(\"ignore\")\n",
    "\n",
    "from pinecone_text.sparse import BM25Encoder\n",
    "from langchain_community.embeddings.sentence_transformer import SentenceTransformerEmbeddings\n",
    "\n",
    "# Load API Keys\n",
    "from unstructured.staging.base import elements_to_json\n",
    "from unstructured.staging.base import convert_to_dict\n",
    "import json\n",
    "import yaml\n",
    "from groq import Groq\n",
    "from dotenv import load_dotenv\n",
    "\n",
    "from unstructured.partition.pdf import partition_pdf\n",
    "from langchain_core.prompts import ChatPromptTemplate\n",
    "#Need to import groq from langchain\n",
    "\n",
    "from langchain.text_splitter import RecursiveCharacterTextSplitter\n",
    "from typing import List, Dict\n",
    "\n",
    "# Can try paddle OCR instead of tesseract\n"
   ]
  },
  {
   "cell_type": "code",
   "execution_count": 10,
   "metadata": {},
   "outputs": [],
   "source": [
    "load_dotenv()\n",
    "groq_api_key = os.getenv('GROQ_API_KEY')\n",
    "hf_key = os.getenv('HUGGINGFACE_API_KEY')\n",
    "pinecone_api_key = os.getenv('PINECONE_API_KEY')\n",
    "pc = Pinecone(api_key=os.environ['PINECONE_API_KEY'])\n",
    "openai_api_key = os.getenv('OPENAI_API_KEY')\n",
    "groq_client = Groq(api_key = groq_api_key)\n",
    "model = \"llama3-8b-8192\""
   ]
  },
  {
   "cell_type": "markdown",
   "metadata": {},
   "source": [
    "## Data Loading\n",
    "\n",
    "- Using partitionpdf, which segments a pdf document by using a layout model.\n",
    "- This layout model makes it possible to extract elements, such as tables, from PDFs.\n",
    "- We will also use unstructured chunking\n",
    "  - Tries to identify document sections\n",
    "  - builds text blocks that maintain sections while also honoring user-defined chunk sizes\n"
   ]
  },
  {
   "cell_type": "code",
   "execution_count": 3,
   "metadata": {},
   "outputs": [
    {
     "name": "stderr",
     "output_type": "stream",
     "text": [
      "Some weights of the model checkpoint at microsoft/table-transformer-structure-recognition were not used when initializing TableTransformerForObjectDetection: ['model.backbone.conv_encoder.model.layer2.0.downsample.1.num_batches_tracked', 'model.backbone.conv_encoder.model.layer3.0.downsample.1.num_batches_tracked', 'model.backbone.conv_encoder.model.layer4.0.downsample.1.num_batches_tracked']\n",
      "- This IS expected if you are initializing TableTransformerForObjectDetection from the checkpoint of a model trained on another task or with another architecture (e.g. initializing a BertForSequenceClassification model from a BertForPreTraining model).\n",
      "- This IS NOT expected if you are initializing TableTransformerForObjectDetection from the checkpoint of a model that you expect to be exactly identical (initializing a BertForSequenceClassification model from a BertForSequenceClassification model).\n"
     ]
    },
    {
     "name": "stdout",
     "output_type": "stream",
     "text": [
      "length before filtering: 130\n",
      "length after filtering: 109\n"
     ]
    },
    {
     "data": {
      "text/plain": [
       "{'type': 'Title',\n",
       " 'element_id': 'cc9971d7967ab7ce6a3ac73cc065832e',\n",
       " 'metadata': {'coordinates': {'points': [[195.6, 158.1],\n",
       "    [195.6, 187.6],\n",
       "    [313.3, 187.6],\n",
       "    [313.3, 158.1]],\n",
       "   'system': 'PixelSpace',\n",
       "   'layout_width': 1653,\n",
       "   'layout_height': 2339},\n",
       "  'filename': 'HSI1000_1to9.pdf',\n",
       "  'file_directory': '../data',\n",
       "  'last_modified': '2024-06-12T13:15:53',\n",
       "  'filetype': 'application/pdf',\n",
       "  'page_number': 1},\n",
       " 'text': 'Lecture 1'}"
      ]
     },
     "execution_count": 3,
     "metadata": {},
     "output_type": "execute_result"
    }
   ],
   "source": [
    "# Code taken from unstructured website and stack overflow \n",
    "path_to_hsi = \"../data/HSI1000_1to9.pdf\"\n",
    "raw_pdf_elements = partition_pdf(\"../data/HSI1000_1to9.pdf\", \n",
    "                        strategy=\"hi_res\", \n",
    "                        hi_res_model_name=\"yolox\",\n",
    "                        infer_table_structure=True\n",
    "                        )\n",
    "\n",
    "# Save output to json file (Future use mongodb maybe)\n",
    "convert_to_dict(raw_pdf_elements)\n",
    "\n",
    "element_output_file = \"../data/element_entities.json\"\n",
    "elements_to_json(raw_pdf_elements, filename=element_output_file)\n",
    "with open(\"../data/element_entities.json\", \"r\", encoding='utf-8') as fin:\n",
    "    read_elements = json.load(fin)\n",
    "print(f\"length before filtering: {len(read_elements)}\")\n",
    "\n",
    "unwanted_types = ['Footer', 'Image', 'FigureCaption', 'UncategorizedText']\n",
    "filtered_el = []\n",
    "for el in read_elements:\n",
    "    if el['type'] in unwanted_types:\n",
    "        continue\n",
    "    else:\n",
    "        filtered_el.append(el)\n",
    "print(f\"length after filtering: {len(filtered_el)}\")\n",
    "filtered_el[0]"
   ]
  },
  {
   "cell_type": "code",
   "execution_count": 4,
   "metadata": {},
   "outputs": [
    {
     "name": "stdout",
     "output_type": "stream",
     "text": [
      "3\n",
      "106\n"
     ]
    }
   ],
   "source": [
    "table_elements =  [\n",
    "    {'type': el['type'], \n",
    "     'Page': el['metadata']['page_number'],\n",
    "     \"text\": el['metadata']['text_as_html']\n",
    "     } for el in filtered_el if el['type'] == 'Table']\n",
    "print(f\"Number of tables identified: {len(table_elements)}\")\n",
    "text_elements =  [{'type': el['type'], \n",
    "     'Page': el['metadata']['page_number'],\n",
    "     \"text\": el['text']\n",
    "     } for el in filtered_el if el['type'] != 'Table']\n",
    "print(f\"Number of text elements identified: {len(text_elements)}\")\n"
   ]
  },
  {
   "cell_type": "code",
   "execution_count": 5,
   "metadata": {},
   "outputs": [
    {
     "data": {
      "text/plain": [
       "{'type': 'Title', 'Page': 1, 'text': 'Lecture 1'}"
      ]
     },
     "execution_count": 5,
     "metadata": {},
     "output_type": "execute_result"
    }
   ],
   "source": [
    "text_elements[0]"
   ]
  },
  {
   "cell_type": "code",
   "execution_count": 6,
   "metadata": {},
   "outputs": [
    {
     "data": {
      "text/plain": [
       "{'type': 'Table',\n",
       " 'Page': 2,\n",
       " 'text': '<table><thead><th></th><th>Laptop doesn’t boot</th></thead><tr><td></td><td>Battery dead</td></tr><tr><td>the explanation |</td><td>Plug in external power</td></tr><tr><td>of test</td><td>Laptop seems to boot, so the battery must have been dead</td></tr></table>'}"
      ]
     },
     "execution_count": 6,
     "metadata": {},
     "output_type": "execute_result"
    }
   ],
   "source": [
    "table_elements[0]"
   ]
  },
  {
   "cell_type": "code",
   "execution_count": 7,
   "metadata": {},
   "outputs": [
    {
     "name": "stdout",
     "output_type": "stream",
     "text": [
      "[{'Page': 1, 'text': 'Lecture 1\\nHSI1000\\n1 The Founding of Modern Science\\nIntended Learning Outcomes for Lecture 01 You should be able to do the following after this lecture.\\n(1) Describe what is science and explain the scientific method “in a nutshell”, illustrating your explanation with a straightforward example.'}, {'Page': 1, 'text': '(2) Describe the roles scientific observations play in the scientific method. (3) Explain what are the main concerns that should be addressed when making scientific observations. (4) Explain why anomalous phenomena are important for science, illustrating your explanation with some'}, {'Page': 1, 'text': 'examples from the scientific revolution.\\n(5) In the context of the scientific revolution, discuss the difference between an evidence-based understanding of the natural world versus one based on authority.'}, {'Page': 1, 'text': '(6) Discuss the steam engine’s contribution to the Industrial Revolution and its impact on population growth in industrialized nations.'}, {'Page': 1, 'text': '1.1 What is Science? Hi all, welcome to the first video in this series. This lecture, which is made up of several videos, is about what science is and is a cut-down bare-bones explanation of the scientific method “in a nutshell” – which we will see illustrated with a few examples'}, {'Page': 1, 'text': '. We will take a closer look at the first step in the scientific method (again illustrated with an example) and then briefly review the founding of modern science and what one could say was a direct consequence of that – the Industrial Revolution'}, {'Page': 1, 'text': ', and it’s here we’ll see the beginning of mankind’s dependence on fossil fuels.'}, {'Page': 1, 'text': 'I hope you have had a look through the intended learning outcomes for this lecture. They are listed right before this video, so let’s get straight into addressing our first learning outcome, which is to answer the question:\\n“What is science actually?”'}, {'Page': 1, 'text': 'I bet most people think of science in terms of “subjects”, like Chemistry, Physics, Biology, Medicine, and Pharmacy, just to name a few'}, {'Page': 1, 'text': '. But is this actually science? Knowledge in textbooks? Where did this knowledge come from anyway? Most people would say that the facts, ideas, and concepts in science textbooks is true to the best of our knowledge, but how do we know it’s true'}, {'Page': 1, 'text': '? In fact, just how do we know what we currently know, at all? By answering these questions, we get closer to figuring out what science is.'}, {'Page': 1, 'text': '1.1.1 What is Science and the Scientific Method in a Nutshell At this point, we’ll take a look at what science is from our course textbook A Beginner’s Guide to Scientific Method. Right here in Chapter 1, page 5, we read:'}, {'Page': 1, 'text': '“Science is that activity which aims to further our understanding of why things happen as they do in the natural world. It accomplishes this goal by applications of the scientific method.”\\nSo, what exactly is the scientific method?'}, {'Page': 1, 'text': 'Our textbook goes on to explain, “…it is the process of observing nature, isolating a facet that is not well understood, and then proposing and testing possible explanations.” Observe. Explain. Test the explanation.'}, {'Page': 2, 'text': 'Lecture 1'}, {'Page': 2, 'text': 'The facts, ideas, and concepts we find in textbooks have all been put through this process. The knowledge in textbooks is really only one part of science – it’s essentially the explanation part with some observations usually thrown in here and there'}, {'Page': 2, 'text': '. Rarely do we read about the rigorous testing the explanations went through. Nor do we hear much about those wrong explanations given earlier, and how testing, or experimentation, was used to eliminate them and home in on what now lies within science textbooks.'}, {'Page': 2, 'text': '1.1.2 Science is Self-Correcting You see, science is self-correcting.'}, {'Page': 2, 'text': \"The vast majority of the knowledge found in today’s textbooks was all hard won, with multiple wrong explanations being proposed and then discarded until arriving at the current version. This may yet be undone if some new test of that understanding reveals it's lacking in some way.\"}, {'Page': 2, 'text': 'This testing and refinement of our knowledge and understanding is the nature of Scientific Inquiry, the main topic of this course. The best way to understand scientific inquiry is through examples and application'}, {'Page': 2, 'text': '. The topic we’ve chosen to look at to gain an understanding of scientific inquiry is perhaps the single most important problem facing our species today – that is, climate change and loss of biodiversity'}, {'Page': 2, 'text': '. It is science that offers us our best chance at figuring out how we can get out of this mess – and what all of us need to do to get there.'}, {'Page': 2, 'text': 'OK, before we get into this serious problem, we need to get a good understanding of this “observe, explain, test” approach to knowledge discovery.'}, {'Page': 2, 'text': 'Did you know that any time you troubleshoot something you’re actually applying the scientific method? For example, let’s take a look at troubleshooting a laptop that doesn’t bootup in our next video.'}, {'Page': 2, 'text': '1.2 A PC Won’t Work 1.2.1 Troubleshooting a Laptop We find that our laptop doesn’t boot, so we troubleshoot it, which is an example of a straightforward application of the scientific method.\\nObservation Explanation Test the explanation Plug in external power Result of test'}, {'Page': 2, 'text': 'Laptop doesn’t boot Battery dead\\nLaptop seems to boot, so the battery must have been dead\\nBut now there’s a new problem.\\nRe-running through our “observe, explain, test” steps again we find:\\nObservation Explanation Test the explanation Try connecting the external monitor with HDMI cable 1'}, {'Page': 2, 'text': 'Laptop seems to boot, but there’s nothing on the screen Laptop monitor not working\\nLaptop seems to boot, but there’s nothing on the screen. (a) Either the graphics card or motherboard has issues, or (b) Something was wrong with our test.\\nResult of test'}, {'Page': 3, 'text': 'Lecture 1\\nPerhaps there is something wrong with our test. The external monitor clearly worked because we used the external monitor before conducting this test, albeit with a different cable, and it worked! We change our HDMI cable and retry the “Test the explanation” step below.'}, {'Page': 3, 'text': 'Observation Explanation Test the explanation Try connecting the external monitor with HDMI cable 2 Result of test\\nLaptop seems boot, but there’s nothing on the screen Laptop monitor not working\\nLaptop definitely boots and the external monitor shows the start screen.'}, {'Page': 3, 'text': 'After performing a series of tests in the “real world”, that is, by testing our explanations, we discover the following things we didn’t know before performing any tests:'}, {'Page': 3, 'text': '1.2.2 Troubleshooting and the Scientific Method Troubleshooting is an example of the scientific method. It is in a sense a trivial example of it – the scientific method is a lot more powerful than that. The scientific method can be used to probe and discover brand new things about nature'}, {'Page': 3, 'text': '. This, of course, relies on our explanations and then testing those explanations. If our explanation ends up not being falsified, then we have support for our explanation and the more we test our explanation the more confidence we have that our explanation is, in fact, true.'}, {'Page': 3, 'text': 'This is how things are discovered using the scientific method, and this is the way we have discovered many things about the world today. All the content in science textbooks have been subjected to this procedure'}, {'Page': 3, 'text': '. This example illustrates how science is self-correcting, where our steps taken above can be summarized in the following flow chart.'}, {'Page': 3, 'text': 'We also note that every time we loop through this chart, regardless of whether the test is consistent with the explanation or not, we gain new information about the world around us.'}, {'Page': 4, 'text': 'Lecture 1\\nHSI1000'}, {'Page': 4, 'text': '1.3 Teabag Experiment In the previous video, we saw that troubleshooting a laptop was an example of the scientific method. In fact, troubleshooting anything in general represents an application of the scientific method. You observe that there is clearly something wrong'}, {'Page': 4, 'text': '. You come up with possible explanations as to what might be the cause of the problem. Finally, you go through the process of checking if the thing you thought might be wrong is indeed the cause of the problem'}, {'Page': 4, 'text': '. If it isn’t then you try something else, i.e., you toss aside your previous explanation of what the problem was and make a new explanation for the cause. You continue doing this until you can at least narrow down what’s the cause of the problem.'}, {'Page': 4, 'text': 'Observe, explain, and test the explanation – the scientific method in a nutshell. The point is by running through this process you will discover things you didn’t know before. Now I’ll illustrate this again, but in the household environment'}, {'Page': 4, 'text': '. This time we’ll use the scientific method to discover something new about nature, or at least something that might be new to you.'}, {'Page': 4, 'text': '(1) Tea bag bloats and floats on top of the water when boiling water is poured directly on top of it.\\nObservations\\n(2) Tea bag doesn’t bloat and sinks in the water when boiling water is poured on the side and not directly onto it.'}, {'Page': 4, 'text': 'Water poured on top of the tea bag fills the pores of the teabag itself, trapping any gas inside before it can escape. The hot water heats the trapped air, causing it to expand. The trapped air prevents the tea bag from being dunked.\\nExplanation'}, {'Page': 4, 'text': 'Explanation\\nPores of the tea bag can get sealed up with water and prevent air from escaping.\\nTest the explanation\\nQuickly seal the tea bag in cold water, trapping the air, then pour boiling water near to but not directly onto it.\\nResult of test'}, {'Page': 4, 'text': 'Result of test\\nTea bag bloats and floats on top of the water supporting the explanation.'}, {'Page': 4, 'text': 'The test supports our explanation, rather than confirm it. If we really wanted to check whether this explanation is correct, we would need to do a lot more tests'}, {'Page': 4, 'text': '. Compared to troubleshooting the laptop in the previous section, the results of the test with the tea bag are a lot more tentative since we generally know more about the way a laptop works and our tests are more directly indicative of the explanation being correct (or not) than the tea bag'}, {'Page': 4, 'text': '. We don’t know that much about what’s going on exactly. We have this speculative'}, {'Page': 5, 'text': 'Lecture 1\\nexplanation that water is somehow filling up pores, sealing that tea bag, and our test is supportive of this explanation. But ideally, we would find out a lot more about this phenomenon before we can say for sure that this explanation is correct.'}, {'Page': 5, 'text': 'There are lots of additional interesting questions we can now ask about this phenomenon of liquid water stretching across tiny gaps in the teabag and effectively sealing the air inside:'}, {'Page': 5, 'text': 'If there really is water sealing the pores, then can we see it? • How thick is the film of water sealing the pores of the teabag? • How long does this film last? • How strongly does the water seal in the air? i.e., what level of air pressure is needed to break the seal'}, {'Page': 5, 'text': '? • How big do the pores need to be so that the water can’t seal air inside them? • Does adding other substances to the water change this behavior? • What about other liquids? Do they behave in the same way?'}, {'Page': 5, 'text': 'In science, answering one question often leads to more questions, and an investigation can sometimes take wild and unanticipated twists and turns that lead to new knowledge and understanding of nature.'}, {'Page': 5, 'text': '1.4 Cadaverous Poisoning You may not have realized it, but in the previous video we were just starting to scratch the surface of two entire branches of science: “Interface Science” and “Colloidal Science” – extremely important areas within chemistry, food science, biology, and physics, etc'}, {'Page': 5, 'text': '. A good understanding of these areas is also of great importance to industry and for most of the products industry produces.'}, {'Page': 5, 'text': '1.4.1 Semmelweis and Childbed Fever I have one last example of a fairly straightforward application of the scientific method, taken from our textbook and drawn from the annals of science'}, {'Page': 5, 'text': '. Our example will be from the area of medicine and we’re going to wind the clock back to 1846, to a time when science had yet to discover the “germ” – that is, those nasty little disease-causing organisms so small they are invisible to the naked eye.'}, {'Page': 5, 'text': 'Figure 1 Semmelweis from Wikimedia: Jenő Doby, Public domain, via Wikimedia Commons'}, {'Page': 5, 'text': \"Dr. Ignaz Semmelweis (Figure 1) was hired on a three-year contract into the Vienna General Hospital's maternity clinic from 1846 – 1849. At the time “childbed fever”, aka puerperal fever, was running rampant in hospitals all over Europe and the US\"}, {'Page': 5, 'text': '. This disease affected mothers after they gave birth or had a miscarriage. Without going into details, it was a particularly nasty disease with a number of easily recognizable signs and symptoms.'}, {'Page': 5, 'text': 'It usually occurred after the first 24 hours and within the first ten days following delivery. The fever was deadly, killing up to 80% of those diagnosed and sometimes reached as high as 40% of all mothers admitted to the hospital. As with all physicians, Dr'}, {'Page': 5, 'text': '. As with all physicians, Dr. Semmelweis was particularly concerned, so he studied the data on mortality rates within his hospital dating from 1841 – 1846 looking for something, anything, that might give a clue on how to stop the fever.'}, {'Page': 6, 'text': 'Lecture 1\\nHSI1000'}, {'Page': 6, 'text': 'He noticed something when comparing the mortality rates between two different clinics in his hospital (Figure 2)'}, {'Page': 6, 'text': '. Now there was no obvious difference between the two sets of mothers in each clinic, so why were a lot more women dying in his clinic where doctors attended to mothers (orange curve in Figure 2)?'}, {'Page': 6, 'text': 'He showed the findings to his colleagues, but everyone was at a loss as to why this should be so. Was it something the doctors were doing wrong? or perhaps something the midwives were doing right? Maybe it was due to a difference in the clinical environments? Perhaps the patients in his'}, {'Page': 6, 'text': 'clinic were somehow more prone to illness?'}, {'Page': 6, 'text': 'At this time, in the middle of the 19th century, the “germ” or pathogen, was not known to be the cause of disease. Germs had not been observed, and any speculation of their possible existence was not taken seriously'}, {'Page': 6, 'text': '. The reining theories for how disease was spread, caused, and treated at the time were quite wrong.'}, {'Page': 6, 'text': '1.4.2 A Key Observation'}, {'Page': 6, 'text': 'Then a rather unfortunate incident occurred in 1847 in an anatomical pathology lab. Dr Semmelweis’ friend, who he greatly admired, died after being accidentally pricked by a scalpel being used by a student doctor while he was assisting in performing an autopsy'}, {'Page': 6, 'text': '. Professor Kolletschka (Figure 3) suffered identical signs and symptoms as the mothers who died of childbed fever. Dr Semmelweis wrote about the incident:'}, {'Page': 6, 'text': \"“Day and night I was haunted by the image of Kolletschka's disease and was forced to recognize, ever more decisively, that the disease from which Kolletschka died was identical to that from which so many maternity patients died.”\"}, {'Page': 6, 'text': 'Figure 3 Kolletschka from Wikimedia: Unknown author, Public domain, via Wikimedia Commons There is another very pertinent fact, or observation, in this case'}, {'Page': 6, 'text': '. Right after the student doctors attended the anatomical pathology lab, where they dissected badly infected corpses, they would go to Dr Semmelweis’ maternity clinic to assist in the births of expectant mothers.'}, {'Page': 6, 'text': 'Do remember that the way disease was spread, caused, and treated in those days was completely misunderstood'}, {'Page': 6, 'text': '. No one knew about germs, so there certainly were no antibiotics and there was no disinfecting of anything – no hand washing of one’s hands especially when, by just looking at them, they were quite obviously clean.'}, {'Page': 6, 'text': 'So now we have our careful observations, or facts,\\n(1) The mortality rate of mothers due to childbed fever in a clinic attended by doctors was, on average, five times higher than what appears to be a similar clinic with similar mothers but attended by midwives instead of doctors.'}, {'Page': 6, 'text': '(2) Doctors attend to mothers in the clinic directly after having been engaged in autopsies of infected corpses in the anatomical pathology lab.'}, {'Page': 6, 'text': '(3) A doctor dies from identical signs and symptoms to childbed fever after having been stuck with a scalpel used to dissect infected corpses in the anatomical pathology lab.'}, {'Page': 7, 'text': 'Lecture 1'}, {'Page': 7, 'text': '1.4.3 A Possible Explanation Following the scientific method: observation, explanation, testing, what could be a possible explanation for these observations? Semmelweis felt that the only sensible explanation must have something to do with the corpses. Something unseen'}, {'Page': 7, 'text': '. Something unseen. He called this something “cadaver matter”, so he speculated that invisible cadaver matter was picked up by the student doctors touching corpses while working in the anatomical pathology lab'}, {'Page': 7, 'text': '. This matter wasn’t visible to the naked eye, but it was deadly if it entered the body via a wound. When these same doctors assisted mothers while giving birth, they transferred it to them through the usual wounds suffered during such a process.'}, {'Page': 7, 'text': '1.4.4 Testing the Explanation At the moment, this explanation is pure speculation. It could certainly be wrong, with some other unknown explanation being the right one. Following the scientific method, he needed a means of testing this proposal to see if he was indeed wrong'}, {'Page': 7, 'text': '. If his explanation was right, and cadaver matter existed, he decided that, quite obviously, it needed to be removed from the student’s hands before attending to the mothers in his maternity clinic.'}, {'Page': 7, 'text': 'Therefore, he instituted a policy of using a solution of chlorinated lime (calcium hypochlorite, or swimming pool chemical in water) for washing hands between autopsy work and the examination of patients'}, {'Page': 7, 'text': '. He chose this chemical because he found that the same solution worked best to remove the putrid smell of infected autopsy tissue.'}, {'Page': 7, 'text': 'Now if his explanation was correct and the chlorinated lime solution was effective, then the mortality rates of childbed fever should drop to the same levels as the midwife’s clinic or lower'}, {'Page': 7, 'text': '. Despite some resistance to the hand washing, and whispers that he had instituted a waste-of-time hand washing for crazy reasons (like a theory that corpse particles could turn the living into a corpse!), the mortality rates in his clinic dropped remarkably, as shown in the following graph.'}, {'Page': 8, 'text': 'Lecture 1\\nIf you’d like to read more about Dr. Semmelweis and this interesting case, just follow the link in the box below.'}, {'Page': 8, 'text': '1.4.5 To summarize, Dr. Semmelweis made observations and provided an explanation for those observations. Based on that explanation, he performed a test of it with the results supporting his explanation. Of course, there was no explanation of what was “cadaver matter”'}, {'Page': 8, 'text': '. Furthermore, since his explanation ran against the generally accepted scientific theories of the time and it wasn’t completely accepted until 30 years later when the cadaver matter was actually discovered by Louis Pasteur in 1879'}, {'Page': 8, 'text': '. A revolutionary new theory of disease was then established which remains as the prevailing explanation for diseases to date – germ theory.'}]\n"
     ]
    }
   ],
   "source": [
    "\n",
    "def get_file_docs(element: List[Dict]) -> List[Dict]:\n",
    "    def get_num_pages(elements):\n",
    "        num = 0\n",
    "        for el in elements:\n",
    "            if el['Page'] > num:\n",
    "                num = el['Page']\n",
    "        return num\n",
    "\n",
    "    def generate_chunks(text: str, page_num: int) -> List[Dict]:\n",
    "        separator_ls = [\"\\n\\n\", \"\\n\", \". \", \"!\", \"?\", \",\", \" \", \"\"]\n",
    "        text_splitter = RecursiveCharacterTextSplitter(\n",
    "            chunk_size=300,\n",
    "            chunk_overlap=30,\n",
    "            length_function=len,\n",
    "            separators=separator_ls\n",
    "        )\n",
    "        separated_list = text_splitter.split_text(text)\n",
    "        # Add page number to each chunk\n",
    "        return [{'Page': page_num, 'text': chunk} for chunk in separated_list]\n",
    "    \n",
    "    file_chunks = []\n",
    "    num_pages = get_num_pages(text_elements)\n",
    "    \n",
    "    for i in range(num_pages):\n",
    "        page_ls = []\n",
    "        for el in element:\n",
    "            if el['Page'] == i:\n",
    "                page_ls.append(el['text'])\n",
    "        \n",
    "        page_text = \"\\n\".join(page_ls)\n",
    "        text_chunks = generate_chunks(page_text, i)\n",
    "        file_chunks.extend(text_chunks)\n",
    "    \n",
    "    return file_chunks\n",
    "\n",
    "text_documents = get_file_docs(text_elements)\n",
    "print(text_documents)"
   ]
  },
  {
   "cell_type": "code",
   "execution_count": 27,
   "metadata": {},
   "outputs": [],
   "source": [
    "# Initialize the BM25Encoder and SentenceTransformer model\n",
    "def initialise_models():\n",
    "\tbm25 = BM25Encoder()\n",
    "\n",
    "\t# Load embeddings. Need to change from ...co/models/ to ...co/pipeline/feature-extraction/...\n",
    "\tHF_API_URL = \"https://api-inference.huggingface.co/pipeline/feature-extraction/sentence-transformers/all-mpnet-base-v2\"\n",
    "\theaders = {\"Authorization\": f\"Bearer {hf_key}\"}\n",
    "\n",
    "\tdef dense_embed(payload: str) -> str:\n",
    "\t\tresponse = requests.post(HF_API_URL, headers=headers, json=payload)\n",
    "\t\treturn response.json()"
   ]
  },
  {
   "cell_type": "code",
   "execution_count": 30,
   "metadata": {},
   "outputs": [
    {
     "name": "stderr",
     "output_type": "stream",
     "text": [
      " 33%|███▎      | 1/3 [00:17<00:35, 17.61s/it]"
     ]
    },
    {
     "name": "stdout",
     "output_type": "stream",
     "text": [
      "Batch starting with index 0 upserted\n"
     ]
    },
    {
     "name": "stderr",
     "output_type": "stream",
     "text": [
      " 67%|██████▋   | 2/3 [00:34<00:17, 17.24s/it]"
     ]
    },
    {
     "name": "stdout",
     "output_type": "stream",
     "text": [
      "Batch starting with index 32 upserted\n"
     ]
    },
    {
     "name": "stderr",
     "output_type": "stream",
     "text": [
      "100%|██████████| 3/3 [00:50<00:00, 17.00s/it]"
     ]
    },
    {
     "name": "stdout",
     "output_type": "stream",
     "text": [
      "Batch starting with index 64 upserted\n"
     ]
    },
    {
     "name": "stderr",
     "output_type": "stream",
     "text": [
      "\n"
     ]
    }
   ],
   "source": [
    "def upsert_pinecone(text_documents):\n",
    "    # Convert text_documents to DataFrame\n",
    "    df = pd.DataFrame(text_documents)\n",
    "\n",
    "    pinecone_upserts = []\n",
    "    db_dense_embeddings = []\n",
    "    db_text_chunks = []\n",
    "\n",
    "    batch_size = 32\n",
    "\n",
    "    # Create something to check the status of the pinecone index before upserting\n",
    "\n",
    "    # Loop through the DataFrame 'df' in batches of size 'batch_size'\n",
    "    for i in trange(0, len(df), batch_size):\n",
    "        i_end = min(i+batch_size, len(df)) # Determine the end index of the current batch\n",
    "        df_batch = df.iloc[i:i_end] # Extract the current batch from the DataFrame\n",
    "        df_dict = df_batch.to_dict(orient=\"records\") # Convert the batch to a list of dictionaries\n",
    "        \n",
    "        meta_batch = [\n",
    "            f\"Page {row['Page']}: {row['text']}\" for _, row in df_batch.iterrows()\n",
    "        ]\n",
    "        \n",
    "        # bm25.fit(meta_batch)\n",
    "\n",
    "        text_chunks = df_batch['text'].tolist()\n",
    "        db_text_chunks.extend(text_chunks)\n",
    "        \n",
    "        # Encode combined metadata and text using BM25Encoder to create sparse embeddings\n",
    "        # sparse_embeddings = bm25.encode_documents([combined for combined in meta_batch])\n",
    "\n",
    "        # Encode text using SentenceTransformer to create dense embeddings\n",
    "        dense_embeddings = dense_embed(text_chunks)\n",
    "        db_dense_embeddings.extend(dense_embeddings)\n",
    "        \n",
    "        # Generate a list of IDs for the current batch\n",
    "        ids = ['vec' +str(x) for x in range(i, i_end)]\n",
    "        time.sleep(2)\n",
    "        pinecone_batch_upserts = []\n",
    "        \n",
    "        for _id, dense, meta in zip(ids, dense_embeddings, df_dict):\n",
    "            pinecone_batch_upserts.append({\n",
    "                'id': _id,\n",
    "                'values': dense,\n",
    "                'metadata': meta\n",
    "            })\n",
    "        \n",
    "        index = pc.Index('hsi-notes')\n",
    "        \n",
    "        # RUN ONLY WHEN WANT TO UPSERT NEW BATCH\n",
    "        if isinstance(dense_embeddings, list):\n",
    "            upsert_response = index.upsert(vectors = pinecone_batch_upserts, namespace='page-1to9-texts')\n",
    "        else:\n",
    "            print(\"Embedding model not connected properly. Dense embeddings not generated. \")\n",
    "            return\n",
    "        print(f\"Batch starting with index {i} upserted\")\n",
    "        pinecone_upserts.append(pinecone_batch_upserts)\n",
    "    return"
   ]
  },
  {
   "cell_type": "markdown",
   "metadata": {},
   "source": [
    "### Using the pinecone index to test the retrieval\n"
   ]
  },
  {
   "cell_type": "code",
   "execution_count": 35,
   "metadata": {},
   "outputs": [
    {
     "name": "stdout",
     "output_type": "stream",
     "text": [
      "{'dimension': 768,\n",
      " 'host': 'hsi-notes-ugakozt.svc.aped-4627-b74a.pinecone.io',\n",
      " 'metric': 'dotproduct',\n",
      " 'name': 'hsi-notes',\n",
      " 'spec': {'serverless': {'cloud': 'aws', 'region': 'us-east-1'}},\n",
      " 'status': {'ready': True, 'state': 'Ready'}}\n"
     ]
    }
   ],
   "source": [
    "index_stats = pc.describe_index(os.environ['PINECONE_INDEX_NAME'])\n",
    "print(index_stats)"
   ]
  },
  {
   "cell_type": "code",
   "execution_count": 56,
   "metadata": {},
   "outputs": [],
   "source": [
    "def get_relevant_chunks(query, top_k):\n",
    "    # Create dense vector of user query\n",
    "    dense_query = dense_embed(query)\n",
    "    matches = index.query( \n",
    "        namespace='page-1to9-texts',\n",
    "        top_k=top_k, \n",
    "        vector=dense_query, \n",
    "        include_metadata=True\n",
    "        )\n",
    "    return matches\n",
    "\n",
    "def pretty_print_matches(result):\n",
    "    print(f\"Namespace searched: {result['namespace']}\\n\")\n",
    "    num_results = len(result['matches'])\n",
    "    print(f\"Top {num_results} relevant chunks found:\\n\")\n",
    "    for i in range(num_results):\n",
    "        print(f\"Found on page {int(result['matches'][i]['metadata']['Page'])}:\")\n",
    "        print(f\"{result['matches'][i]['metadata']['text']}\")\n",
    "        print(f\"Dotproduct score: {result['matches'][i]['score']}\")\n",
    "        print(\"-\" * 80)\n",
    "\n",
    "def get_llm_context(query, top_k):\n",
    "    index_stats = pc.describe_index(os.environ['PINECONE_INDEX_NAME'])\n",
    "    if index_stats['status']['ready'] and index_stats['status']['state'] == \"Ready\":\n",
    "        relevant_matches = get_relevant_chunks(query, top_k)        \n",
    "    # ideally its just to combine the first 2 matches. Or maybe to go by dotproduct score and difference \n",
    "    context = \"\"\n",
    "    for i in range(len(relevant_matches['matches'])):\n",
    "        context += f\"Page number: {int(relevant_matches['matches'][i]['metadata']['Page'])}\" + relevant_matches['matches'][i]['metadata']['text'] + \"\\n\"\n",
    "    return context"
   ]
  },
  {
   "cell_type": "code",
   "execution_count": 57,
   "metadata": {},
   "outputs": [
    {
     "name": "stdout",
     "output_type": "stream",
     "text": [
      "A fascinating topic! According to our notes, Cadaverous Poisoning refers to the transmission of a mysterious, invisible substance, also known as \"cadaver matter,\" from corpses to medical professionals, particularly doctors and students, who handled the bodies during autopsies and dissections. This substance was believed to be responsible for the spread of diseases, including childbed fever, which was a significant cause of maternal mortality at the time.\n",
      "\n",
      "As noted on page 7, this substance was found to be particularly prevalent in the anatomical pathology lab, where doctors and students would often come into contact with infected corpses. The same solution used to remove the putrid smell of infected autopsy tissue was also found to be effective in removing the cadaver matter from the skin.\n",
      "\n",
      "It's worth noting that the concept of cadaverous poisoning was first proposed by a doctor who observed that medical professionals who had handled corpses were more likely to contract diseases, such as childbed fever, which was often fatal. This doctor speculated that the cadaver matter was transmitted through skin contact or wounds, as noted on page 6(3).\n",
      "\n",
      "Unfortunately, the exact composition of cadaverous poisoning was never fully understood, and it was likely a combination of various factors, including bacteria, viruses, and other microorganisms that were present on the corpses. However, the concept of cadaverous poisoning highlights the importance of proper hygiene and infection control measures in medical settings, even in the 19th century.\n",
      "\n",
      "I hope this answers your question!\n"
     ]
    }
   ],
   "source": [
    "from langchain_groq import ChatGroq\n",
    "\n",
    "def llama_chat(user_question, k):\n",
    "    context = get_llm_context(user_question, k)\n",
    "    chat = ChatGroq(temperature=0, model_name=\"llama3-8b-8192\")\n",
    "    system = '''\n",
    "            You are a science professor in a university. \n",
    "            Given the user's question and relevant sections from a set of school notes about scientific methodology and the history of science.\n",
    "            You will also answer the question by including direct quotes from the notes, \\\n",
    "            along with the page number where the answer or answers can be found.\n",
    "            '''\n",
    "    human = \"{text}\"\n",
    "    prompt = ChatPromptTemplate.from_messages(\n",
    "        [\n",
    "            (\n",
    "                \"system\", system\n",
    "            ),\n",
    "            (\n",
    "                \"human\", human\n",
    "                )\n",
    "        ]\n",
    "    )\n",
    "    chain = prompt | chat\n",
    "    return chain.invoke({\"text\": f\"User Question: \" + user_question + \"\\n\\nRelevant section in textbook:\\n\\n\" + context})\n",
    "\n",
    "answer = llama_chat(\"What is Cadaverous Poisoning?\", 5)\n",
    "print(answer.content)"
   ]
  },
  {
   "cell_type": "code",
   "execution_count": 58,
   "metadata": {},
   "outputs": [
    {
     "data": {
      "text/plain": [
       "[{'type': 'Table',\n",
       "  'Page': 2,\n",
       "  'text': '<table><thead><th></th><th>Laptop doesn’t boot</th></thead><tr><td></td><td>Battery dead</td></tr><tr><td>the explanation |</td><td>Plug in external power</td></tr><tr><td>of test</td><td>Laptop seems to boot, so the battery must have been dead</td></tr></table>'},\n",
       " {'type': 'Table',\n",
       "  'Page': 2,\n",
       "  'text': '<table><tr><td rowspan=\"2\">Explanation Test the explanation |</td><td>Laptop monitor not working</td></tr><tr><td></td><td>Try connecting the external monitor with HDMI cable 1</td></tr><tr><td rowspan=\"2\">Result of test</td><td>Laptop seems to boot, but there’s nothing on the screen. (a) Either the graphics card or motherboard has issues,</td></tr><tr><td></td><td>or (b) Something was wrong with our test.</td></tr></table>'},\n",
       " {'type': 'Table',\n",
       "  'Page': 3,\n",
       "  'text': '<table><tr><td>Observation</td><td>Laptop seems boot, but there’s nothing on the screen</td></tr><tr><td>Explanation</td><td>Laptop monitor not working</td></tr><tr><td>Test the explanation</td><td>| Try connecting the external monitor with HDMI cable 2</td></tr><tr><td>Result of test</td><td>Laptop definitely boots and the external monitor shows the start screen.</td></tr></table>'}]"
      ]
     },
     "execution_count": 58,
     "metadata": {},
     "output_type": "execute_result"
    }
   ],
   "source": [
    "# Table section\n",
    "table_elements"
   ]
  },
  {
   "cell_type": "code",
   "execution_count": null,
   "metadata": {},
   "outputs": [],
   "source": []
  },
  {
   "cell_type": "code",
   "execution_count": null,
   "metadata": {},
   "outputs": [],
   "source": []
  }
 ],
 "metadata": {
  "kernelspec": {
   "display_name": "py310",
   "language": "python",
   "name": "python3"
  },
  "language_info": {
   "codemirror_mode": {
    "name": "ipython",
    "version": 3
   },
   "file_extension": ".py",
   "mimetype": "text/x-python",
   "name": "python",
   "nbconvert_exporter": "python",
   "pygments_lexer": "ipython3",
   "version": "3.10.0"
  }
 },
 "nbformat": 4,
 "nbformat_minor": 2
}
